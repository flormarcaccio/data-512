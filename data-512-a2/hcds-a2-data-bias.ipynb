{
 "cells": [
  {
   "cell_type": "markdown",
   "metadata": {},
   "source": [
    "# A2: Bias in data\n",
    "\n",
    "This notebook includes an analysis on possible bias in the Wikipedia Talk corpus. I focused on the Toxicity and Aggression datasets in order to answer the following questions:\n",
    "\n",
    "* Does the gender of a worker affect the toxicity score they assign to comments?\n",
    "\n",
    "* Is the age of the worker a factor when identifying aggressive comments?"
   ]
  },
  {
   "cell_type": "markdown",
   "metadata": {},
   "source": [
    "---"
   ]
  },
  {
   "cell_type": "markdown",
   "metadata": {},
   "source": [
    "# Step 1: Performing Two Exploratory Data Analysis"
   ]
  },
  {
   "cell_type": "markdown",
   "metadata": {},
   "source": [
    "Importing packages for analysis"
   ]
  },
  {
   "cell_type": "code",
   "execution_count": 1,
   "metadata": {},
   "outputs": [
    {
     "name": "stderr",
     "output_type": "stream",
     "text": [
      "/opt/anaconda3/lib/python3.7/site-packages/statsmodels/tools/_testing.py:19: FutureWarning: pandas.util.testing is deprecated. Use the functions in the public API at pandas.testing instead.\n",
      "  import pandas.util.testing as tm\n"
     ]
    }
   ],
   "source": [
    "import urllib\n",
    "import pandas as pd\n",
    "from matplotlib import pyplot as plt\n",
    "from scipy.stats import ttest_ind\n",
    "import seaborn as sns\n",
    "import numpy as np"
   ]
  },
  {
   "cell_type": "markdown",
   "metadata": {},
   "source": [
    "## Downloading Toxicity and Agression datasets"
   ]
  },
  {
   "cell_type": "markdown",
   "metadata": {},
   "source": [
    "Downloading Toxicity and Aggression files from [Figshare site](https://figshare.com/projects/Wikipedia_Talk/16731)"
   ]
  },
  {
   "cell_type": "code",
   "execution_count": 5,
   "metadata": {},
   "outputs": [
    {
     "name": "stdout",
     "output_type": "stream",
     "text": [
      "--2020-10-21 19:50:34--  https://ndownloader.figshare.com/files/7394539\n",
      "Resolving ndownloader.figshare.com (ndownloader.figshare.com)... 34.250.140.125, 54.76.76.248, 34.240.85.170, ...\n",
      "Connecting to ndownloader.figshare.com (ndownloader.figshare.com)|34.250.140.125|:443... connected.\n",
      "HTTP request sent, awaiting response... 302 Found\n",
      "Location: https://s3-eu-west-1.amazonaws.com/pfigshare-u-files/7394539/toxicity_annotations.tsv [following]\n",
      "--2020-10-21 19:50:35--  https://s3-eu-west-1.amazonaws.com/pfigshare-u-files/7394539/toxicity_annotations.tsv\n",
      "Resolving s3-eu-west-1.amazonaws.com (s3-eu-west-1.amazonaws.com)... 52.218.112.11\n",
      "Connecting to s3-eu-west-1.amazonaws.com (s3-eu-west-1.amazonaws.com)|52.218.112.11|:443... connected.\n",
      "HTTP request sent, awaiting response... 200 OK\n",
      "Length: 36177321 (35M) [binary/octet-stream]\n",
      "Saving to: ‘toxicity_annotations.tsv’\n",
      "\n",
      "toxicity_annotation 100%[===================>]  34.50M  9.18MB/s    in 5.0s    \n",
      "\n",
      "2020-10-21 19:50:41 (6.93 MB/s) - ‘toxicity_annotations.tsv’ saved [36177321/36177321]\n",
      "\n",
      "--2020-10-21 19:50:41--  https://ndownloader.figshare.com/files/7394542\n",
      "Resolving ndownloader.figshare.com (ndownloader.figshare.com)... 52.19.91.162, 54.76.76.248, 34.240.85.170, ...\n",
      "Connecting to ndownloader.figshare.com (ndownloader.figshare.com)|52.19.91.162|:443... connected.\n",
      "HTTP request sent, awaiting response... 302 Found\n",
      "Location: https://s3-eu-west-1.amazonaws.com/pfigshare-u-files/7394542/toxicity_annotated_comments.tsv [following]\n",
      "--2020-10-21 19:50:42--  https://s3-eu-west-1.amazonaws.com/pfigshare-u-files/7394542/toxicity_annotated_comments.tsv\n",
      "Resolving s3-eu-west-1.amazonaws.com (s3-eu-west-1.amazonaws.com)... 52.218.112.11\n",
      "Connecting to s3-eu-west-1.amazonaws.com (s3-eu-west-1.amazonaws.com)|52.218.112.11|:443... connected.\n",
      "HTTP request sent, awaiting response... 200 OK\n",
      "Length: 78187921 (75M) [binary/octet-stream]\n",
      "Saving to: ‘toxicity_annotated_comments.tsv’\n",
      "\n",
      "toxicity_annotated_ 100%[===================>]  74.57M   804KB/s    in 24s     \n",
      "\n",
      "2020-10-21 19:51:06 (3.12 MB/s) - ‘toxicity_annotated_comments.tsv’ saved [78187921/78187921]\n",
      "\n",
      "--2020-10-21 19:51:07--  https://ndownloader.figshare.com/files/7640581\n",
      "Resolving ndownloader.figshare.com (ndownloader.figshare.com)... 52.19.15.100, 54.76.76.248, 54.77.6.92, ...\n",
      "Connecting to ndownloader.figshare.com (ndownloader.figshare.com)|52.19.15.100|:443... connected.\n",
      "HTTP request sent, awaiting response... 302 Found\n",
      "Location: https://s3-eu-west-1.amazonaws.com/pfigshare-u-files/7640581/toxicity_worker_demographics.tsv [following]\n",
      "--2020-10-21 19:51:07--  https://s3-eu-west-1.amazonaws.com/pfigshare-u-files/7640581/toxicity_worker_demographics.tsv\n",
      "Resolving s3-eu-west-1.amazonaws.com (s3-eu-west-1.amazonaws.com)... 52.218.89.139\n",
      "Connecting to s3-eu-west-1.amazonaws.com (s3-eu-west-1.amazonaws.com)|52.218.89.139|:443... connected.\n",
      "HTTP request sent, awaiting response... 200 OK\n",
      "Length: 94645 (92K) [binary/octet-stream]\n",
      "Saving to: ‘toxicity_worker_demographics.tsv’\n",
      "\n",
      "toxicity_worker_dem 100%[===================>]  92.43K  55.8KB/s    in 1.7s    \n",
      "\n",
      "2020-10-21 19:51:10 (55.8 KB/s) - ‘toxicity_worker_demographics.tsv’ saved [94645/94645]\n",
      "\n",
      "--2020-10-21 19:51:10--  https://ndownloader.figshare.com/files/7394506\n",
      "Resolving ndownloader.figshare.com (ndownloader.figshare.com)... 34.252.62.189, 54.76.76.248, 54.77.6.92, ...\n",
      "Connecting to ndownloader.figshare.com (ndownloader.figshare.com)|34.252.62.189|:443... connected.\n",
      "HTTP request sent, awaiting response... 302 Found\n",
      "Location: https://s3-eu-west-1.amazonaws.com/pfigshare-u-files/7394506/aggression_annotations.tsv [following]\n",
      "--2020-10-21 19:51:11--  https://s3-eu-west-1.amazonaws.com/pfigshare-u-files/7394506/aggression_annotations.tsv\n",
      "Resolving s3-eu-west-1.amazonaws.com (s3-eu-west-1.amazonaws.com)... 52.218.89.139\n",
      "Connecting to s3-eu-west-1.amazonaws.com (s3-eu-west-1.amazonaws.com)|52.218.89.139|:443... connected.\n",
      "HTTP request sent, awaiting response... 200 OK\n",
      "Length: 30627328 (29M) [binary/octet-stream]\n",
      "Saving to: ‘aggression_annotations.tsv’\n",
      "\n",
      "aggression_annotati 100%[===================>]  29.21M  25.7KB/s    in 18m 32s \n",
      "\n",
      "2020-10-21 20:09:44 (26.9 KB/s) - ‘aggression_annotations.tsv’ saved [30627328/30627328]\n",
      "\n",
      "--2020-10-21 20:09:44--  https://ndownloader.figshare.com/files/7038038\n",
      "Resolving ndownloader.figshare.com (ndownloader.figshare.com)... 52.18.163.110, 176.34.141.126, 54.77.6.92, ...\n",
      "Connecting to ndownloader.figshare.com (ndownloader.figshare.com)|52.18.163.110|:443... connected.\n",
      "HTTP request sent, awaiting response... 302 Found\n",
      "Location: https://s3-eu-west-1.amazonaws.com/pfigshare-u-files/7038038/aggression_annotated_comments.tsv [following]\n",
      "--2020-10-21 20:09:45--  https://s3-eu-west-1.amazonaws.com/pfigshare-u-files/7038038/aggression_annotated_comments.tsv\n",
      "Resolving s3-eu-west-1.amazonaws.com (s3-eu-west-1.amazonaws.com)... 52.218.101.11\n",
      "Connecting to s3-eu-west-1.amazonaws.com (s3-eu-west-1.amazonaws.com)|52.218.101.11|:443... connected.\n",
      "HTTP request sent, awaiting response... 200 OK\n",
      "Length: 58090178 (55M) [binary/octet-stream]\n",
      "Saving to: ‘aggression_annotated_comments.tsv’\n",
      "\n",
      "aggression_annotate 100%[===================>]  55.40M   515KB/s    in 8m 30s  \n",
      "\n",
      "2020-10-21 20:18:15 (111 KB/s) - ‘aggression_annotated_comments.tsv’ saved [58090178/58090178]\n",
      "\n",
      "--2020-10-21 20:18:16--  https://ndownloader.figshare.com/files/7640644\n",
      "Resolving ndownloader.figshare.com (ndownloader.figshare.com)... 54.77.6.92, 176.34.141.126, 34.240.85.170, ...\n",
      "Connecting to ndownloader.figshare.com (ndownloader.figshare.com)|54.77.6.92|:443... connected.\n",
      "HTTP request sent, awaiting response... 302 Found\n",
      "Location: https://s3-eu-west-1.amazonaws.com/pfigshare-u-files/7640644/aggression_worker_demographics.tsv [following]\n",
      "--2020-10-21 20:18:17--  https://s3-eu-west-1.amazonaws.com/pfigshare-u-files/7640644/aggression_worker_demographics.tsv\n",
      "Resolving s3-eu-west-1.amazonaws.com (s3-eu-west-1.amazonaws.com)... 52.218.62.59\n",
      "Connecting to s3-eu-west-1.amazonaws.com (s3-eu-west-1.amazonaws.com)|52.218.62.59|:443... connected.\n",
      "HTTP request sent, awaiting response... 200 OK\n",
      "Length: 57649 (56K) [binary/octet-stream]\n",
      "Saving to: ‘aggression_worker_demographics.tsv’\n",
      "\n",
      "aggression_worker_d 100%[===================>]  56.30K   276KB/s    in 0.2s    \n",
      "\n",
      "2020-10-21 20:18:18 (276 KB/s) - ‘aggression_worker_demographics.tsv’ saved [57649/57649]\n",
      "\n"
     ]
    }
   ],
   "source": [
    "!wget https://ndownloader.figshare.com/files/7394539 -O toxicity_annotations.tsv\n",
    "!wget https://ndownloader.figshare.com/files/7394542 -O toxicity_annotated_comments.tsv\n",
    "!wget https://ndownloader.figshare.com/files/7640581 -O toxicity_worker_demographics.tsv\n",
    "\n",
    "!wget https://ndownloader.figshare.com/files/7394506 -O aggression_annotations.tsv\n",
    "!wget https://ndownloader.figshare.com/files/7038038 -O aggression_annotated_comments.tsv\n",
    "!wget https://ndownloader.figshare.com/files/7640644 -O aggression_worker_demographics.tsv"
   ]
  },
  {
   "cell_type": "markdown",
   "metadata": {},
   "source": [
    "## Loading datasets"
   ]
  },
  {
   "cell_type": "markdown",
   "metadata": {},
   "source": [
    "Loading data into Jupyter Notebook"
   ]
  },
  {
   "cell_type": "code",
   "execution_count": 6,
   "metadata": {},
   "outputs": [],
   "source": [
    "toxicity_annotations = pd.read_csv('toxicity_annotations.tsv', delimiter='\\t')\n",
    "toxicity_annotated_comments = pd.read_csv('toxicity_annotated_comments.tsv', delimiter='\\t')\n",
    "toxicity_worker_demographics = pd.read_csv('toxicity_worker_demographics.tsv', delimiter='\\t')\n",
    "\n",
    "aggression_annotations = pd.read_csv('aggression_annotations.tsv', delimiter='\\t')\n",
    "aggression_annotated_comments = pd.read_csv('aggression_annotated_comments.tsv', delimiter='\\t')\n",
    "aggression_worker_demographics = pd.read_csv('aggression_worker_demographics.tsv', delimiter='\\t')"
   ]
  },
  {
   "cell_type": "markdown",
   "metadata": {},
   "source": [
    "Preview of the first 5 rows of each tables"
   ]
  },
  {
   "cell_type": "code",
   "execution_count": 7,
   "metadata": {},
   "outputs": [
    {
     "data": {
      "text/html": [
       "<div>\n",
       "<style scoped>\n",
       "    .dataframe tbody tr th:only-of-type {\n",
       "        vertical-align: middle;\n",
       "    }\n",
       "\n",
       "    .dataframe tbody tr th {\n",
       "        vertical-align: top;\n",
       "    }\n",
       "\n",
       "    .dataframe thead th {\n",
       "        text-align: right;\n",
       "    }\n",
       "</style>\n",
       "<table border=\"1\" class=\"dataframe\">\n",
       "  <thead>\n",
       "    <tr style=\"text-align: right;\">\n",
       "      <th></th>\n",
       "      <th>rev_id</th>\n",
       "      <th>worker_id</th>\n",
       "      <th>toxicity</th>\n",
       "      <th>toxicity_score</th>\n",
       "    </tr>\n",
       "  </thead>\n",
       "  <tbody>\n",
       "    <tr>\n",
       "      <th>0</th>\n",
       "      <td>2232.0</td>\n",
       "      <td>723</td>\n",
       "      <td>0</td>\n",
       "      <td>0.0</td>\n",
       "    </tr>\n",
       "    <tr>\n",
       "      <th>1</th>\n",
       "      <td>2232.0</td>\n",
       "      <td>4000</td>\n",
       "      <td>0</td>\n",
       "      <td>0.0</td>\n",
       "    </tr>\n",
       "    <tr>\n",
       "      <th>2</th>\n",
       "      <td>2232.0</td>\n",
       "      <td>3989</td>\n",
       "      <td>0</td>\n",
       "      <td>1.0</td>\n",
       "    </tr>\n",
       "    <tr>\n",
       "      <th>3</th>\n",
       "      <td>2232.0</td>\n",
       "      <td>3341</td>\n",
       "      <td>0</td>\n",
       "      <td>0.0</td>\n",
       "    </tr>\n",
       "    <tr>\n",
       "      <th>4</th>\n",
       "      <td>2232.0</td>\n",
       "      <td>1574</td>\n",
       "      <td>0</td>\n",
       "      <td>1.0</td>\n",
       "    </tr>\n",
       "  </tbody>\n",
       "</table>\n",
       "</div>"
      ],
      "text/plain": [
       "   rev_id  worker_id  toxicity  toxicity_score\n",
       "0  2232.0        723         0             0.0\n",
       "1  2232.0       4000         0             0.0\n",
       "2  2232.0       3989         0             1.0\n",
       "3  2232.0       3341         0             0.0\n",
       "4  2232.0       1574         0             1.0"
      ]
     },
     "execution_count": 7,
     "metadata": {},
     "output_type": "execute_result"
    }
   ],
   "source": [
    "toxicity_annotations.head()"
   ]
  },
  {
   "cell_type": "code",
   "execution_count": 8,
   "metadata": {},
   "outputs": [
    {
     "data": {
      "text/html": [
       "<div>\n",
       "<style scoped>\n",
       "    .dataframe tbody tr th:only-of-type {\n",
       "        vertical-align: middle;\n",
       "    }\n",
       "\n",
       "    .dataframe tbody tr th {\n",
       "        vertical-align: top;\n",
       "    }\n",
       "\n",
       "    .dataframe thead th {\n",
       "        text-align: right;\n",
       "    }\n",
       "</style>\n",
       "<table border=\"1\" class=\"dataframe\">\n",
       "  <thead>\n",
       "    <tr style=\"text-align: right;\">\n",
       "      <th></th>\n",
       "      <th>rev_id</th>\n",
       "      <th>comment</th>\n",
       "      <th>year</th>\n",
       "      <th>logged_in</th>\n",
       "      <th>ns</th>\n",
       "      <th>sample</th>\n",
       "      <th>split</th>\n",
       "    </tr>\n",
       "  </thead>\n",
       "  <tbody>\n",
       "    <tr>\n",
       "      <th>0</th>\n",
       "      <td>2232.0</td>\n",
       "      <td>This:NEWLINE_TOKEN:One can make an analogy in ...</td>\n",
       "      <td>2002</td>\n",
       "      <td>True</td>\n",
       "      <td>article</td>\n",
       "      <td>random</td>\n",
       "      <td>train</td>\n",
       "    </tr>\n",
       "    <tr>\n",
       "      <th>1</th>\n",
       "      <td>4216.0</td>\n",
       "      <td>`NEWLINE_TOKENNEWLINE_TOKEN:Clarification for ...</td>\n",
       "      <td>2002</td>\n",
       "      <td>True</td>\n",
       "      <td>user</td>\n",
       "      <td>random</td>\n",
       "      <td>train</td>\n",
       "    </tr>\n",
       "    <tr>\n",
       "      <th>2</th>\n",
       "      <td>8953.0</td>\n",
       "      <td>Elected or Electoral? JHK</td>\n",
       "      <td>2002</td>\n",
       "      <td>False</td>\n",
       "      <td>article</td>\n",
       "      <td>random</td>\n",
       "      <td>test</td>\n",
       "    </tr>\n",
       "    <tr>\n",
       "      <th>3</th>\n",
       "      <td>26547.0</td>\n",
       "      <td>`This is such a fun entry.   DevotchkaNEWLINE_...</td>\n",
       "      <td>2002</td>\n",
       "      <td>True</td>\n",
       "      <td>article</td>\n",
       "      <td>random</td>\n",
       "      <td>train</td>\n",
       "    </tr>\n",
       "    <tr>\n",
       "      <th>4</th>\n",
       "      <td>28959.0</td>\n",
       "      <td>Please relate the ozone hole to increases in c...</td>\n",
       "      <td>2002</td>\n",
       "      <td>True</td>\n",
       "      <td>article</td>\n",
       "      <td>random</td>\n",
       "      <td>test</td>\n",
       "    </tr>\n",
       "  </tbody>\n",
       "</table>\n",
       "</div>"
      ],
      "text/plain": [
       "    rev_id                                            comment  year  \\\n",
       "0   2232.0  This:NEWLINE_TOKEN:One can make an analogy in ...  2002   \n",
       "1   4216.0  `NEWLINE_TOKENNEWLINE_TOKEN:Clarification for ...  2002   \n",
       "2   8953.0                          Elected or Electoral? JHK  2002   \n",
       "3  26547.0  `This is such a fun entry.   DevotchkaNEWLINE_...  2002   \n",
       "4  28959.0  Please relate the ozone hole to increases in c...  2002   \n",
       "\n",
       "   logged_in       ns  sample  split  \n",
       "0       True  article  random  train  \n",
       "1       True     user  random  train  \n",
       "2      False  article  random   test  \n",
       "3       True  article  random  train  \n",
       "4       True  article  random   test  "
      ]
     },
     "execution_count": 8,
     "metadata": {},
     "output_type": "execute_result"
    }
   ],
   "source": [
    "toxicity_annotated_comments.head()"
   ]
  },
  {
   "cell_type": "code",
   "execution_count": 9,
   "metadata": {},
   "outputs": [
    {
     "data": {
      "text/html": [
       "<div>\n",
       "<style scoped>\n",
       "    .dataframe tbody tr th:only-of-type {\n",
       "        vertical-align: middle;\n",
       "    }\n",
       "\n",
       "    .dataframe tbody tr th {\n",
       "        vertical-align: top;\n",
       "    }\n",
       "\n",
       "    .dataframe thead th {\n",
       "        text-align: right;\n",
       "    }\n",
       "</style>\n",
       "<table border=\"1\" class=\"dataframe\">\n",
       "  <thead>\n",
       "    <tr style=\"text-align: right;\">\n",
       "      <th></th>\n",
       "      <th>worker_id</th>\n",
       "      <th>gender</th>\n",
       "      <th>english_first_language</th>\n",
       "      <th>age_group</th>\n",
       "      <th>education</th>\n",
       "    </tr>\n",
       "  </thead>\n",
       "  <tbody>\n",
       "    <tr>\n",
       "      <th>0</th>\n",
       "      <td>85</td>\n",
       "      <td>female</td>\n",
       "      <td>0</td>\n",
       "      <td>18-30</td>\n",
       "      <td>bachelors</td>\n",
       "    </tr>\n",
       "    <tr>\n",
       "      <th>1</th>\n",
       "      <td>1617</td>\n",
       "      <td>female</td>\n",
       "      <td>0</td>\n",
       "      <td>45-60</td>\n",
       "      <td>bachelors</td>\n",
       "    </tr>\n",
       "    <tr>\n",
       "      <th>2</th>\n",
       "      <td>1394</td>\n",
       "      <td>female</td>\n",
       "      <td>0</td>\n",
       "      <td>NaN</td>\n",
       "      <td>bachelors</td>\n",
       "    </tr>\n",
       "    <tr>\n",
       "      <th>3</th>\n",
       "      <td>311</td>\n",
       "      <td>male</td>\n",
       "      <td>0</td>\n",
       "      <td>30-45</td>\n",
       "      <td>bachelors</td>\n",
       "    </tr>\n",
       "    <tr>\n",
       "      <th>4</th>\n",
       "      <td>1980</td>\n",
       "      <td>male</td>\n",
       "      <td>0</td>\n",
       "      <td>45-60</td>\n",
       "      <td>masters</td>\n",
       "    </tr>\n",
       "  </tbody>\n",
       "</table>\n",
       "</div>"
      ],
      "text/plain": [
       "   worker_id  gender  english_first_language age_group  education\n",
       "0         85  female                       0     18-30  bachelors\n",
       "1       1617  female                       0     45-60  bachelors\n",
       "2       1394  female                       0       NaN  bachelors\n",
       "3        311    male                       0     30-45  bachelors\n",
       "4       1980    male                       0     45-60    masters"
      ]
     },
     "execution_count": 9,
     "metadata": {},
     "output_type": "execute_result"
    }
   ],
   "source": [
    "toxicity_worker_demographics.head()"
   ]
  },
  {
   "cell_type": "code",
   "execution_count": 10,
   "metadata": {},
   "outputs": [
    {
     "data": {
      "text/html": [
       "<div>\n",
       "<style scoped>\n",
       "    .dataframe tbody tr th:only-of-type {\n",
       "        vertical-align: middle;\n",
       "    }\n",
       "\n",
       "    .dataframe tbody tr th {\n",
       "        vertical-align: top;\n",
       "    }\n",
       "\n",
       "    .dataframe thead th {\n",
       "        text-align: right;\n",
       "    }\n",
       "</style>\n",
       "<table border=\"1\" class=\"dataframe\">\n",
       "  <thead>\n",
       "    <tr style=\"text-align: right;\">\n",
       "      <th></th>\n",
       "      <th>rev_id</th>\n",
       "      <th>worker_id</th>\n",
       "      <th>aggression</th>\n",
       "      <th>aggression_score</th>\n",
       "    </tr>\n",
       "  </thead>\n",
       "  <tbody>\n",
       "    <tr>\n",
       "      <th>0</th>\n",
       "      <td>37675</td>\n",
       "      <td>1362</td>\n",
       "      <td>1.0</td>\n",
       "      <td>-1.0</td>\n",
       "    </tr>\n",
       "    <tr>\n",
       "      <th>1</th>\n",
       "      <td>37675</td>\n",
       "      <td>2408</td>\n",
       "      <td>0.0</td>\n",
       "      <td>1.0</td>\n",
       "    </tr>\n",
       "    <tr>\n",
       "      <th>2</th>\n",
       "      <td>37675</td>\n",
       "      <td>1493</td>\n",
       "      <td>0.0</td>\n",
       "      <td>0.0</td>\n",
       "    </tr>\n",
       "    <tr>\n",
       "      <th>3</th>\n",
       "      <td>37675</td>\n",
       "      <td>1439</td>\n",
       "      <td>0.0</td>\n",
       "      <td>0.0</td>\n",
       "    </tr>\n",
       "    <tr>\n",
       "      <th>4</th>\n",
       "      <td>37675</td>\n",
       "      <td>170</td>\n",
       "      <td>0.0</td>\n",
       "      <td>0.0</td>\n",
       "    </tr>\n",
       "  </tbody>\n",
       "</table>\n",
       "</div>"
      ],
      "text/plain": [
       "   rev_id  worker_id  aggression  aggression_score\n",
       "0   37675       1362         1.0              -1.0\n",
       "1   37675       2408         0.0               1.0\n",
       "2   37675       1493         0.0               0.0\n",
       "3   37675       1439         0.0               0.0\n",
       "4   37675        170         0.0               0.0"
      ]
     },
     "execution_count": 10,
     "metadata": {},
     "output_type": "execute_result"
    }
   ],
   "source": [
    "aggression_annotations.head()"
   ]
  },
  {
   "cell_type": "code",
   "execution_count": 11,
   "metadata": {},
   "outputs": [
    {
     "data": {
      "text/html": [
       "<div>\n",
       "<style scoped>\n",
       "    .dataframe tbody tr th:only-of-type {\n",
       "        vertical-align: middle;\n",
       "    }\n",
       "\n",
       "    .dataframe tbody tr th {\n",
       "        vertical-align: top;\n",
       "    }\n",
       "\n",
       "    .dataframe thead th {\n",
       "        text-align: right;\n",
       "    }\n",
       "</style>\n",
       "<table border=\"1\" class=\"dataframe\">\n",
       "  <thead>\n",
       "    <tr style=\"text-align: right;\">\n",
       "      <th></th>\n",
       "      <th>rev_id</th>\n",
       "      <th>comment</th>\n",
       "      <th>year</th>\n",
       "      <th>logged_in</th>\n",
       "      <th>ns</th>\n",
       "      <th>sample</th>\n",
       "      <th>split</th>\n",
       "    </tr>\n",
       "  </thead>\n",
       "  <tbody>\n",
       "    <tr>\n",
       "      <th>0</th>\n",
       "      <td>37675</td>\n",
       "      <td>`-NEWLINE_TOKENThis is not ``creative``.  Thos...</td>\n",
       "      <td>2002</td>\n",
       "      <td>True</td>\n",
       "      <td>article</td>\n",
       "      <td>random</td>\n",
       "      <td>train</td>\n",
       "    </tr>\n",
       "    <tr>\n",
       "      <th>1</th>\n",
       "      <td>44816</td>\n",
       "      <td>`NEWLINE_TOKENNEWLINE_TOKEN:: the term ``stand...</td>\n",
       "      <td>2002</td>\n",
       "      <td>True</td>\n",
       "      <td>article</td>\n",
       "      <td>random</td>\n",
       "      <td>train</td>\n",
       "    </tr>\n",
       "    <tr>\n",
       "      <th>2</th>\n",
       "      <td>49851</td>\n",
       "      <td>NEWLINE_TOKENNEWLINE_TOKENTrue or false, the s...</td>\n",
       "      <td>2002</td>\n",
       "      <td>True</td>\n",
       "      <td>article</td>\n",
       "      <td>random</td>\n",
       "      <td>train</td>\n",
       "    </tr>\n",
       "    <tr>\n",
       "      <th>3</th>\n",
       "      <td>89320</td>\n",
       "      <td>Next, maybe you could work on being less cond...</td>\n",
       "      <td>2002</td>\n",
       "      <td>True</td>\n",
       "      <td>article</td>\n",
       "      <td>random</td>\n",
       "      <td>dev</td>\n",
       "    </tr>\n",
       "    <tr>\n",
       "      <th>4</th>\n",
       "      <td>93890</td>\n",
       "      <td>This page will need disambiguation.</td>\n",
       "      <td>2002</td>\n",
       "      <td>True</td>\n",
       "      <td>article</td>\n",
       "      <td>random</td>\n",
       "      <td>train</td>\n",
       "    </tr>\n",
       "  </tbody>\n",
       "</table>\n",
       "</div>"
      ],
      "text/plain": [
       "   rev_id                                            comment  year  logged_in  \\\n",
       "0   37675  `-NEWLINE_TOKENThis is not ``creative``.  Thos...  2002       True   \n",
       "1   44816  `NEWLINE_TOKENNEWLINE_TOKEN:: the term ``stand...  2002       True   \n",
       "2   49851  NEWLINE_TOKENNEWLINE_TOKENTrue or false, the s...  2002       True   \n",
       "3   89320   Next, maybe you could work on being less cond...  2002       True   \n",
       "4   93890               This page will need disambiguation.   2002       True   \n",
       "\n",
       "        ns  sample  split  \n",
       "0  article  random  train  \n",
       "1  article  random  train  \n",
       "2  article  random  train  \n",
       "3  article  random    dev  \n",
       "4  article  random  train  "
      ]
     },
     "execution_count": 11,
     "metadata": {},
     "output_type": "execute_result"
    }
   ],
   "source": [
    "aggression_annotated_comments.head()"
   ]
  },
  {
   "cell_type": "code",
   "execution_count": 12,
   "metadata": {},
   "outputs": [
    {
     "data": {
      "text/html": [
       "<div>\n",
       "<style scoped>\n",
       "    .dataframe tbody tr th:only-of-type {\n",
       "        vertical-align: middle;\n",
       "    }\n",
       "\n",
       "    .dataframe tbody tr th {\n",
       "        vertical-align: top;\n",
       "    }\n",
       "\n",
       "    .dataframe thead th {\n",
       "        text-align: right;\n",
       "    }\n",
       "</style>\n",
       "<table border=\"1\" class=\"dataframe\">\n",
       "  <thead>\n",
       "    <tr style=\"text-align: right;\">\n",
       "      <th></th>\n",
       "      <th>worker_id</th>\n",
       "      <th>gender</th>\n",
       "      <th>english_first_language</th>\n",
       "      <th>age_group</th>\n",
       "      <th>education</th>\n",
       "    </tr>\n",
       "  </thead>\n",
       "  <tbody>\n",
       "    <tr>\n",
       "      <th>0</th>\n",
       "      <td>833</td>\n",
       "      <td>female</td>\n",
       "      <td>0</td>\n",
       "      <td>45-60</td>\n",
       "      <td>bachelors</td>\n",
       "    </tr>\n",
       "    <tr>\n",
       "      <th>1</th>\n",
       "      <td>1072</td>\n",
       "      <td>male</td>\n",
       "      <td>0</td>\n",
       "      <td>30-45</td>\n",
       "      <td>bachelors</td>\n",
       "    </tr>\n",
       "    <tr>\n",
       "      <th>2</th>\n",
       "      <td>872</td>\n",
       "      <td>male</td>\n",
       "      <td>0</td>\n",
       "      <td>18-30</td>\n",
       "      <td>hs</td>\n",
       "    </tr>\n",
       "    <tr>\n",
       "      <th>3</th>\n",
       "      <td>2116</td>\n",
       "      <td>male</td>\n",
       "      <td>0</td>\n",
       "      <td>30-45</td>\n",
       "      <td>professional</td>\n",
       "    </tr>\n",
       "    <tr>\n",
       "      <th>4</th>\n",
       "      <td>453</td>\n",
       "      <td>male</td>\n",
       "      <td>0</td>\n",
       "      <td>30-45</td>\n",
       "      <td>hs</td>\n",
       "    </tr>\n",
       "  </tbody>\n",
       "</table>\n",
       "</div>"
      ],
      "text/plain": [
       "   worker_id  gender  english_first_language age_group     education\n",
       "0        833  female                       0     45-60     bachelors\n",
       "1       1072    male                       0     30-45     bachelors\n",
       "2        872    male                       0     18-30            hs\n",
       "3       2116    male                       0     30-45  professional\n",
       "4        453    male                       0     30-45            hs"
      ]
     },
     "execution_count": 12,
     "metadata": {},
     "output_type": "execute_result"
    }
   ],
   "source": [
    "aggression_worker_demographics.head()"
   ]
  },
  {
   "cell_type": "markdown",
   "metadata": {},
   "source": [
    "## Creating joined datasets"
   ]
  },
  {
   "cell_type": "markdown",
   "metadata": {},
   "source": [
    "Creating two joined dataset with all the tables for each for of hostile speech."
   ]
  },
  {
   "cell_type": "markdown",
   "metadata": {},
   "source": [
    "Toxicity dataset:"
   ]
  },
  {
   "cell_type": "code",
   "execution_count": 13,
   "metadata": {},
   "outputs": [],
   "source": [
    "df_toxicity = joined_annotations = pd.merge(toxicity_annotated_comments, toxicity_annotations, on=\"rev_id\")\n",
    "df_toxicity = df_toxicity.merge(toxicity_worker_demographics, on='worker_id')"
   ]
  },
  {
   "cell_type": "code",
   "execution_count": 14,
   "metadata": {},
   "outputs": [
    {
     "data": {
      "text/html": [
       "<div>\n",
       "<style scoped>\n",
       "    .dataframe tbody tr th:only-of-type {\n",
       "        vertical-align: middle;\n",
       "    }\n",
       "\n",
       "    .dataframe tbody tr th {\n",
       "        vertical-align: top;\n",
       "    }\n",
       "\n",
       "    .dataframe thead th {\n",
       "        text-align: right;\n",
       "    }\n",
       "</style>\n",
       "<table border=\"1\" class=\"dataframe\">\n",
       "  <thead>\n",
       "    <tr style=\"text-align: right;\">\n",
       "      <th></th>\n",
       "      <th>rev_id</th>\n",
       "      <th>comment</th>\n",
       "      <th>year</th>\n",
       "      <th>logged_in</th>\n",
       "      <th>ns</th>\n",
       "      <th>sample</th>\n",
       "      <th>split</th>\n",
       "      <th>worker_id</th>\n",
       "      <th>toxicity</th>\n",
       "      <th>toxicity_score</th>\n",
       "      <th>gender</th>\n",
       "      <th>english_first_language</th>\n",
       "      <th>age_group</th>\n",
       "      <th>education</th>\n",
       "    </tr>\n",
       "  </thead>\n",
       "  <tbody>\n",
       "    <tr>\n",
       "      <th>0</th>\n",
       "      <td>2232.0</td>\n",
       "      <td>This:NEWLINE_TOKEN:One can make an analogy in ...</td>\n",
       "      <td>2002</td>\n",
       "      <td>True</td>\n",
       "      <td>article</td>\n",
       "      <td>random</td>\n",
       "      <td>train</td>\n",
       "      <td>723</td>\n",
       "      <td>0</td>\n",
       "      <td>0.0</td>\n",
       "      <td>female</td>\n",
       "      <td>0</td>\n",
       "      <td>30-45</td>\n",
       "      <td>bachelors</td>\n",
       "    </tr>\n",
       "    <tr>\n",
       "      <th>1</th>\n",
       "      <td>37346.0</td>\n",
       "      <td>`If they are ``indisputable`` then why does th...</td>\n",
       "      <td>2002</td>\n",
       "      <td>True</td>\n",
       "      <td>article</td>\n",
       "      <td>random</td>\n",
       "      <td>train</td>\n",
       "      <td>723</td>\n",
       "      <td>0</td>\n",
       "      <td>0.0</td>\n",
       "      <td>female</td>\n",
       "      <td>0</td>\n",
       "      <td>30-45</td>\n",
       "      <td>bachelors</td>\n",
       "    </tr>\n",
       "    <tr>\n",
       "      <th>2</th>\n",
       "      <td>227181.0</td>\n",
       "      <td>NEWLINE_TOKENNEWLINE_TOKENWell, Ayn Rand certa...</td>\n",
       "      <td>2002</td>\n",
       "      <td>True</td>\n",
       "      <td>article</td>\n",
       "      <td>random</td>\n",
       "      <td>train</td>\n",
       "      <td>723</td>\n",
       "      <td>0</td>\n",
       "      <td>0.0</td>\n",
       "      <td>female</td>\n",
       "      <td>0</td>\n",
       "      <td>30-45</td>\n",
       "      <td>bachelors</td>\n",
       "    </tr>\n",
       "    <tr>\n",
       "      <th>3</th>\n",
       "      <td>2810755.0</td>\n",
       "      <td>NEWLINE_TOKENNEWLINE_TOKENNEWLINE_TOKENNEWLINE...</td>\n",
       "      <td>2004</td>\n",
       "      <td>True</td>\n",
       "      <td>user</td>\n",
       "      <td>random</td>\n",
       "      <td>train</td>\n",
       "      <td>723</td>\n",
       "      <td>0</td>\n",
       "      <td>0.0</td>\n",
       "      <td>female</td>\n",
       "      <td>0</td>\n",
       "      <td>30-45</td>\n",
       "      <td>bachelors</td>\n",
       "    </tr>\n",
       "    <tr>\n",
       "      <th>4</th>\n",
       "      <td>7270696.0</td>\n",
       "      <td>NEWLINE_TOKENNEWLINE_TOKEN==Useful info==NEWLI...</td>\n",
       "      <td>2004</td>\n",
       "      <td>True</td>\n",
       "      <td>article</td>\n",
       "      <td>random</td>\n",
       "      <td>train</td>\n",
       "      <td>723</td>\n",
       "      <td>0</td>\n",
       "      <td>0.0</td>\n",
       "      <td>female</td>\n",
       "      <td>0</td>\n",
       "      <td>30-45</td>\n",
       "      <td>bachelors</td>\n",
       "    </tr>\n",
       "  </tbody>\n",
       "</table>\n",
       "</div>"
      ],
      "text/plain": [
       "      rev_id                                            comment  year  \\\n",
       "0     2232.0  This:NEWLINE_TOKEN:One can make an analogy in ...  2002   \n",
       "1    37346.0  `If they are ``indisputable`` then why does th...  2002   \n",
       "2   227181.0  NEWLINE_TOKENNEWLINE_TOKENWell, Ayn Rand certa...  2002   \n",
       "3  2810755.0  NEWLINE_TOKENNEWLINE_TOKENNEWLINE_TOKENNEWLINE...  2004   \n",
       "4  7270696.0  NEWLINE_TOKENNEWLINE_TOKEN==Useful info==NEWLI...  2004   \n",
       "\n",
       "   logged_in       ns  sample  split  worker_id  toxicity  toxicity_score  \\\n",
       "0       True  article  random  train        723         0             0.0   \n",
       "1       True  article  random  train        723         0             0.0   \n",
       "2       True  article  random  train        723         0             0.0   \n",
       "3       True     user  random  train        723         0             0.0   \n",
       "4       True  article  random  train        723         0             0.0   \n",
       "\n",
       "   gender  english_first_language age_group  education  \n",
       "0  female                       0     30-45  bachelors  \n",
       "1  female                       0     30-45  bachelors  \n",
       "2  female                       0     30-45  bachelors  \n",
       "3  female                       0     30-45  bachelors  \n",
       "4  female                       0     30-45  bachelors  "
      ]
     },
     "execution_count": 14,
     "metadata": {},
     "output_type": "execute_result"
    }
   ],
   "source": [
    "df_toxicity.head()"
   ]
  },
  {
   "cell_type": "markdown",
   "metadata": {},
   "source": [
    "Aggression dataset:"
   ]
  },
  {
   "cell_type": "code",
   "execution_count": 15,
   "metadata": {},
   "outputs": [],
   "source": [
    "df_aggression = joined_annotations = pd.merge(aggression_annotated_comments, aggression_annotations, on=\"rev_id\")\n",
    "df_aggression = df_aggression.merge(aggression_worker_demographics, on='worker_id')"
   ]
  },
  {
   "cell_type": "code",
   "execution_count": 16,
   "metadata": {},
   "outputs": [
    {
     "data": {
      "text/html": [
       "<div>\n",
       "<style scoped>\n",
       "    .dataframe tbody tr th:only-of-type {\n",
       "        vertical-align: middle;\n",
       "    }\n",
       "\n",
       "    .dataframe tbody tr th {\n",
       "        vertical-align: top;\n",
       "    }\n",
       "\n",
       "    .dataframe thead th {\n",
       "        text-align: right;\n",
       "    }\n",
       "</style>\n",
       "<table border=\"1\" class=\"dataframe\">\n",
       "  <thead>\n",
       "    <tr style=\"text-align: right;\">\n",
       "      <th></th>\n",
       "      <th>rev_id</th>\n",
       "      <th>comment</th>\n",
       "      <th>year</th>\n",
       "      <th>logged_in</th>\n",
       "      <th>ns</th>\n",
       "      <th>sample</th>\n",
       "      <th>split</th>\n",
       "      <th>worker_id</th>\n",
       "      <th>aggression</th>\n",
       "      <th>aggression_score</th>\n",
       "      <th>gender</th>\n",
       "      <th>english_first_language</th>\n",
       "      <th>age_group</th>\n",
       "      <th>education</th>\n",
       "    </tr>\n",
       "  </thead>\n",
       "  <tbody>\n",
       "    <tr>\n",
       "      <th>0</th>\n",
       "      <td>37675</td>\n",
       "      <td>`-NEWLINE_TOKENThis is not ``creative``.  Thos...</td>\n",
       "      <td>2002</td>\n",
       "      <td>True</td>\n",
       "      <td>article</td>\n",
       "      <td>random</td>\n",
       "      <td>train</td>\n",
       "      <td>1362</td>\n",
       "      <td>1.0</td>\n",
       "      <td>-1.0</td>\n",
       "      <td>male</td>\n",
       "      <td>0</td>\n",
       "      <td>18-30</td>\n",
       "      <td>masters</td>\n",
       "    </tr>\n",
       "    <tr>\n",
       "      <th>1</th>\n",
       "      <td>3202092</td>\n",
       "      <td>NEWLINE_TOKENNEWLINE_TOKENHi. I haven't used o...</td>\n",
       "      <td>2004</td>\n",
       "      <td>True</td>\n",
       "      <td>user</td>\n",
       "      <td>random</td>\n",
       "      <td>train</td>\n",
       "      <td>1362</td>\n",
       "      <td>0.0</td>\n",
       "      <td>0.0</td>\n",
       "      <td>male</td>\n",
       "      <td>0</td>\n",
       "      <td>18-30</td>\n",
       "      <td>masters</td>\n",
       "    </tr>\n",
       "    <tr>\n",
       "      <th>2</th>\n",
       "      <td>4745553</td>\n",
       "      <td>NEWLINE_TOKENJust look it up.  Its obvious.</td>\n",
       "      <td>2004</td>\n",
       "      <td>True</td>\n",
       "      <td>user</td>\n",
       "      <td>random</td>\n",
       "      <td>train</td>\n",
       "      <td>1362</td>\n",
       "      <td>0.0</td>\n",
       "      <td>0.0</td>\n",
       "      <td>male</td>\n",
       "      <td>0</td>\n",
       "      <td>18-30</td>\n",
       "      <td>masters</td>\n",
       "    </tr>\n",
       "    <tr>\n",
       "      <th>3</th>\n",
       "      <td>4855563</td>\n",
       "      <td>NEWLINE_TOKENNEWLINE_TOKENI'm going to gather ...</td>\n",
       "      <td>2004</td>\n",
       "      <td>True</td>\n",
       "      <td>article</td>\n",
       "      <td>random</td>\n",
       "      <td>test</td>\n",
       "      <td>1362</td>\n",
       "      <td>0.0</td>\n",
       "      <td>0.0</td>\n",
       "      <td>male</td>\n",
       "      <td>0</td>\n",
       "      <td>18-30</td>\n",
       "      <td>masters</td>\n",
       "    </tr>\n",
       "    <tr>\n",
       "      <th>4</th>\n",
       "      <td>8350378</td>\n",
       "      <td>`NEWLINE_TOKENNEWLINE_TOKEN§ I got in touch wi...</td>\n",
       "      <td>2004</td>\n",
       "      <td>True</td>\n",
       "      <td>article</td>\n",
       "      <td>random</td>\n",
       "      <td>train</td>\n",
       "      <td>1362</td>\n",
       "      <td>0.0</td>\n",
       "      <td>0.0</td>\n",
       "      <td>male</td>\n",
       "      <td>0</td>\n",
       "      <td>18-30</td>\n",
       "      <td>masters</td>\n",
       "    </tr>\n",
       "  </tbody>\n",
       "</table>\n",
       "</div>"
      ],
      "text/plain": [
       "    rev_id                                            comment  year  \\\n",
       "0    37675  `-NEWLINE_TOKENThis is not ``creative``.  Thos...  2002   \n",
       "1  3202092  NEWLINE_TOKENNEWLINE_TOKENHi. I haven't used o...  2004   \n",
       "2  4745553        NEWLINE_TOKENJust look it up.  Its obvious.  2004   \n",
       "3  4855563  NEWLINE_TOKENNEWLINE_TOKENI'm going to gather ...  2004   \n",
       "4  8350378  `NEWLINE_TOKENNEWLINE_TOKEN§ I got in touch wi...  2004   \n",
       "\n",
       "   logged_in       ns  sample  split  worker_id  aggression  aggression_score  \\\n",
       "0       True  article  random  train       1362         1.0              -1.0   \n",
       "1       True     user  random  train       1362         0.0               0.0   \n",
       "2       True     user  random  train       1362         0.0               0.0   \n",
       "3       True  article  random   test       1362         0.0               0.0   \n",
       "4       True  article  random  train       1362         0.0               0.0   \n",
       "\n",
       "  gender  english_first_language age_group education  \n",
       "0   male                       0     18-30   masters  \n",
       "1   male                       0     18-30   masters  \n",
       "2   male                       0     18-30   masters  \n",
       "3   male                       0     18-30   masters  \n",
       "4   male                       0     18-30   masters  "
      ]
     },
     "execution_count": 16,
     "metadata": {},
     "output_type": "execute_result"
    }
   ],
   "source": [
    "df_aggression.head()"
   ]
  },
  {
   "cell_type": "markdown",
   "metadata": {},
   "source": [
    "## Analysis #1: Does the gender of a worker affect the toxicity score they assign to comments?"
   ]
  },
  {
   "cell_type": "markdown",
   "metadata": {},
   "source": [
    "Adding the number of annotations each worker did, the mean toxicity score they put, and the percentage of comments they identified as toxic to the workers' table."
   ]
  },
  {
   "cell_type": "code",
   "execution_count": 17,
   "metadata": {},
   "outputs": [],
   "source": [
    "mean_toxicity_score = df_toxicity.groupby('worker_id')['toxicity_score'].mean().reset_index(name='mean_toxicity_score')\n",
    "count_annotations_toxicity = df_toxicity.groupby('worker_id')['rev_id'].nunique().reset_index(name='count_annotations')\n",
    "count_toxic = df_toxicity[df_toxicity['toxicity'] == 1].groupby('worker_id')['rev_id'].nunique().reset_index(name='count_toxic')\n",
    "\n",
    "toxicity_worker_demographics = toxicity_worker_demographics.merge(mean_toxicity_score, on='worker_id')\n",
    "toxicity_worker_demographics = toxicity_worker_demographics.merge(count_annotations_toxicity, on='worker_id')\n",
    "toxicity_worker_demographics = toxicity_worker_demographics.merge(count_toxic, on='worker_id')\n",
    "toxicity_worker_demographics['percent_toxic'] = toxicity_worker_demographics['count_toxic']/toxicity_worker_demographics['count_annotations']"
   ]
  },
  {
   "cell_type": "markdown",
   "metadata": {},
   "source": [
    "**Are the workers distributed equally between gender?**"
   ]
  },
  {
   "cell_type": "markdown",
   "metadata": {},
   "source": [
    "Getting the number of workers by gender"
   ]
  },
  {
   "cell_type": "code",
   "execution_count": 18,
   "metadata": {},
   "outputs": [
    {
     "data": {
      "text/plain": [
       "gender\n",
       "female    1259\n",
       "male      2318\n",
       "other        1\n",
       "Name: worker_id, dtype: int64"
      ]
     },
     "execution_count": 18,
     "metadata": {},
     "output_type": "execute_result"
    }
   ],
   "source": [
    "toxicity_worker_demographics.groupby('gender').worker_id.count()"
   ]
  },
  {
   "cell_type": "markdown",
   "metadata": {},
   "source": [
    "The workers are not fairly distributed by gender. Not only are there almost double male-identified workers compared to female-identified, but it also concerns that there is only one marked as 'other'. While this third category could include workers that choose not to identify themselves (the demographics survey was optional), it also groups everyone that does not identify with a binary gender. Transgender people comprise an estimated 0.6% of the general US population ([Flores, Herman, Gates, & Brown, June 2016](https://williamsinstitute.law.ucla.edu/publications/trans-adults-united-states/)), so their lack of representation in the sample means that comments that they would perceive as toxic, due to their past experiences and hardships, could be disregarded by the workers in the sample.  \n",
    "While I will be focusing the rest of this analysis mostly on male/female genders due to a lack of samples on the 'other' group, I wanted to point out this first potential source of bias found."
   ]
  },
  {
   "cell_type": "markdown",
   "metadata": {},
   "source": [
    "**Were the annotations distributed equally between gender?**"
   ]
  },
  {
   "cell_type": "markdown",
   "metadata": {},
   "source": [
    "Getting how many annotations were marked by each gender"
   ]
  },
  {
   "cell_type": "code",
   "execution_count": 19,
   "metadata": {},
   "outputs": [
    {
     "data": {
      "text/plain": [
       "gender\n",
       "female    457307\n",
       "male      889141\n",
       "other        358\n",
       "Name: count_annotations, dtype: int64"
      ]
     },
     "execution_count": 19,
     "metadata": {},
     "output_type": "execute_result"
    }
   ],
   "source": [
    "toxicity_worker_demographics.groupby('gender').count_annotations.sum()"
   ]
  },
  {
   "cell_type": "markdown",
   "metadata": {},
   "source": [
    "The annotations made by male-identified workers almost double the annotations made by female-identified workers. If there is a difference on how workers assign a score based on gender (later analyzed), it could be a source of bias."
   ]
  },
  {
   "cell_type": "markdown",
   "metadata": {},
   "source": [
    "**Is there any difference on the mean percentage of comments identified as toxic by gender?**"
   ]
  },
  {
   "cell_type": "markdown",
   "metadata": {},
   "source": [
    "Calculating the mean percentage of comments that were marked as toxic by workers in each gender."
   ]
  },
  {
   "cell_type": "code",
   "execution_count": 20,
   "metadata": {},
   "outputs": [
    {
     "data": {
      "text/plain": [
       "gender\n",
       "female    0.162548\n",
       "male      0.144262\n",
       "other     0.164804\n",
       "Name: percent_toxic, dtype: float64"
      ]
     },
     "execution_count": 20,
     "metadata": {},
     "output_type": "execute_result"
    }
   ],
   "source": [
    "toxicity_worker_demographics.groupby('gender').percent_toxic.mean()"
   ]
  },
  {
   "cell_type": "markdown",
   "metadata": {},
   "source": [
    "There is a slight difference in how many comments are marked as toxic by each worker, depending on gender. Male-identified workers are more unlikely to identify a comment as toxic. As mentioned before, this could potentially be a source of bias."
   ]
  },
  {
   "cell_type": "markdown",
   "metadata": {},
   "source": [
    "**Is there any difference on the mean toxicity score by gender?**"
   ]
  },
  {
   "cell_type": "markdown",
   "metadata": {},
   "source": [
    "Already having the mean toxicity score that each worker assigned in the workers' demographics table, I want to calculate the mean of this score by gender."
   ]
  },
  {
   "cell_type": "code",
   "execution_count": 21,
   "metadata": {},
   "outputs": [
    {
     "data": {
      "text/plain": [
       "gender\n",
       "female    0.176501\n",
       "male      0.228066\n",
       "other     0.553073\n",
       "Name: mean_toxicity_score, dtype: float64"
      ]
     },
     "execution_count": 21,
     "metadata": {},
     "output_type": "execute_result"
    }
   ],
   "source": [
    "toxicity_worker_demographics.groupby('gender').mean_toxicity_score.mean()"
   ]
  },
  {
   "cell_type": "markdown",
   "metadata": {},
   "source": [
    "There is a noticeable difference between female and male that is going to be explored later in the analysis. As far as the 'other' group, due to only having one worker in the group, we cannot make any assumptions."
   ]
  },
  {
   "cell_type": "markdown",
   "metadata": {},
   "source": [
    "**Plotting the findings:**"
   ]
  },
  {
   "cell_type": "code",
   "execution_count": 38,
   "metadata": {},
   "outputs": [
    {
     "data": {
      "image/png": "[encoded data removed]",
      "text/plain": [
       "<Figure size 720x576 with 2 Axes>"
      ]
     },
     "metadata": {
      "needs_background": "light"
     },
     "output_type": "display_data"
    }
   ],
   "source": [
    "fig, ax1 = plt.subplots(figsize=(10,8))\n",
    "ax1.set_xlabel('Gender')\n",
    "ax1.set_ylabel('Number of annotations', color='blue')\n",
    "ax1.tick_params(axis='y', labelcolor='blue')\n",
    "toxicity_worker_demographics.groupby('gender').count_annotations.sum().plot.bar(ax=ax1)\n",
    "\n",
    "ax2 = ax1.twinx()\n",
    "ax2.set_xlabel('Gender')\n",
    "ax2.set_ylabel('Mean toxicity score', color='red')\n",
    "ax2.set_ylim(bottom=0, top=0.6)\n",
    "ax2.tick_params(axis='y', labelcolor='red')\n",
    "toxicity_worker_demographics.groupby('gender').mean_toxicity_score.mean().plot(ax=ax2, color='red', marker=\".\")\n",
    "\n",
    "plt.title('Number of annotations and mean toxicity score by gender')\n",
    "\n",
    "plt.savefig('mean_toxicity_score_by_gender.png')\n",
    "\n",
    "plt.grid()\n",
    "plt.show()"
   ]
  },
  {
   "cell_type": "markdown",
   "metadata": {},
   "source": [
    "There seems to be a bit of a difference in mean toxicity score between female and male identified workers."
   ]
  },
  {
   "cell_type": "markdown",
   "metadata": {},
   "source": [
    "**What percentage of annotations were marked for each score?**"
   ]
  },
  {
   "cell_type": "markdown",
   "metadata": {},
   "source": [
    "Male workers:"
   ]
  },
  {
   "cell_type": "code",
   "execution_count": 23,
   "metadata": {},
   "outputs": [
    {
     "data": {
      "text/plain": [
       "toxicity_score\n",
       "-2.0    0.024586\n",
       "-1.0    0.115300\n",
       " 0.0    0.483219\n",
       " 1.0    0.362492\n",
       " 2.0    0.014403\n",
       "Name: rev_id, dtype: float64"
      ]
     },
     "execution_count": 23,
     "metadata": {},
     "output_type": "execute_result"
    }
   ],
   "source": [
    "dist_male = df_toxicity[df_toxicity['gender'] == 'male'].groupby('toxicity_score').rev_id.count()\n",
    "dist_male/dist_male.sum()"
   ]
  },
  {
   "cell_type": "markdown",
   "metadata": {},
   "source": [
    "Female workers:"
   ]
  },
  {
   "cell_type": "code",
   "execution_count": 24,
   "metadata": {},
   "outputs": [
    {
     "data": {
      "text/plain": [
       "toxicity_score\n",
       "-2.0    0.030778\n",
       "-1.0    0.126316\n",
       " 0.0    0.490653\n",
       " 1.0    0.337869\n",
       " 2.0    0.014385\n",
       "Name: rev_id, dtype: float64"
      ]
     },
     "execution_count": 24,
     "metadata": {},
     "output_type": "execute_result"
    }
   ],
   "source": [
    "dist_female = df_toxicity[df_toxicity['gender'] == 'female'].groupby('toxicity_score').rev_id.count()\n",
    "dist_female/dist_female.sum()"
   ]
  },
  {
   "cell_type": "markdown",
   "metadata": {},
   "source": [
    "Comments annotated by female-identified workers seem to lean a bit towards the lower scores."
   ]
  },
  {
   "cell_type": "code",
   "execution_count": 39,
   "metadata": {},
   "outputs": [
    {
     "data": {
      "image/png": "[encoded data removed]",
      "text/plain": [
       "<Figure size 720x576 with 1 Axes>"
      ]
     },
     "metadata": {
      "needs_background": "light"
     },
     "output_type": "display_data"
    }
   ],
   "source": [
    "fig, ax = plt.subplots(figsize=(10,8))\n",
    "(dist_female/dist_female.sum()).plot.bar(alpha=0.3, color='red', label='Female')\n",
    "(dist_male/dist_male.sum()).plot.bar(alpha=0.3, label='Male')\n",
    "\n",
    "plt.legend(loc = 'upper left')\n",
    "plt.title('Percentage of of annotated comments by toxicity score')\n",
    "\n",
    "plt.savefig('percent_comments_toxicity_score_gender.png')\n",
    "\n",
    "plt.grid()\n",
    "plt.show()"
   ]
  },
  {
   "cell_type": "markdown",
   "metadata": {},
   "source": [
    "While I can visually see a difference in mean toxicity score, I want to see if gender plays a role in the mean score each worker assigns.\n",
    " \n",
    "To do this, I'm going to work under the Null Hypothesis that gender does not make a difference in mean toxicity score and perform a T-Test."
   ]
  },
  {
   "cell_type": "code",
   "execution_count": 26,
   "metadata": {},
   "outputs": [],
   "source": [
    "scores_male = toxicity_worker_demographics[toxicity_worker_demographics['gender'] == 'male']['mean_toxicity_score']\n",
    "scores_female = toxicity_worker_demographics[toxicity_worker_demographics['gender'] == 'female']['mean_toxicity_score']"
   ]
  },
  {
   "cell_type": "code",
   "execution_count": 27,
   "metadata": {},
   "outputs": [
    {
     "name": "stdout",
     "output_type": "stream",
     "text": [
      "Statistics:  4.699480400052319\n",
      "P-Value:  2.706546932187377e-06\n"
     ]
    }
   ],
   "source": [
    "stat, p = ttest_ind(scores_male, scores_female)\n",
    "print('Statistics: ', stat)\n",
    "print('P-Value: ', p)"
   ]
  },
  {
   "cell_type": "markdown",
   "metadata": {},
   "source": [
    "The obtained P-Value is lower than the significance level of 0.05, so **I have evidence to reject the Null Hypothesis, which means that female-identified workers on average tend to give lower scores than male-identified workers.**"
   ]
  },
  {
   "cell_type": "markdown",
   "metadata": {},
   "source": [
    "### Conclusion for Analysis #1: Does the gender of a worker affect the toxicity score they assign to comments?"
   ]
  },
  {
   "cell_type": "markdown",
   "metadata": {},
   "source": [
    "From the analysis, I found that the unfair worker representation by gender can be a source of bias for models using the 'toxicity' dataset for training.\n",
    "\n",
    "The absence of non-binary workers (we cannot know if the worker in 'others' chose not to identify themself or identify as non-binary) furthers the problem of underrepresented communities. Female or male-identified workers do not have the same experiences and sensitivity to identify toxic comments as non-binary people. This could result in models failing to recognize toxic comments that affect these underrepresented communities because no one during the annotation phase could acknowledge this type of toxicity.\n",
    "\n",
    "Analyzing the different toxicity scores assigned by female and male-identified workers shows that male-identified workers give a higher toxicity score than female-identified workers. This, added to the fact that annotations made by male workers almost double the annotations made by female, could be a source of bias for models using this dataset for training. Because they will be learning from a dataset annotated by a majority of males, the models will later assign scores skewed towards 'Healthy' and 'Very healthy'."
   ]
  },
  {
   "cell_type": "markdown",
   "metadata": {},
   "source": [
    "## Analysis #2: Is the age of the worker a factor when identifying aggressive comments?"
   ]
  },
  {
   "cell_type": "markdown",
   "metadata": {},
   "source": [
    "Adding the number of annotations each worker did, the mean aggression score they put and the percentage of comments they identified as aggressive to the workers table."
   ]
  },
  {
   "cell_type": "code",
   "execution_count": 28,
   "metadata": {},
   "outputs": [],
   "source": [
    "mean_aggression_score = df_aggression.groupby('worker_id')['aggression_score'].mean().reset_index(name='mean_aggression_score')\n",
    "count_annotations_aggression = df_aggression.groupby('worker_id')['rev_id'].nunique().reset_index(name='count_annotations')\n",
    "count_aggression = df_aggression[df_aggression['aggression'] == 1].groupby('worker_id')['rev_id'].nunique().reset_index(name='count_aggression')\n",
    "\n",
    "aggression_worker_demographics = aggression_worker_demographics.merge(mean_aggression_score, on='worker_id')\n",
    "aggression_worker_demographics = aggression_worker_demographics.merge(count_annotations_aggression, on='worker_id')\n",
    "aggression_worker_demographics = aggression_worker_demographics.merge(count_aggression, on='worker_id')\n",
    "aggression_worker_demographics['percent_aggression'] = aggression_worker_demographics['count_aggression']/aggression_worker_demographics['count_annotations']"
   ]
  },
  {
   "cell_type": "markdown",
   "metadata": {},
   "source": [
    "**How is the workers population divided between age groups?**"
   ]
  },
  {
   "cell_type": "markdown",
   "metadata": {},
   "source": [
    "Number of workers in each age group"
   ]
  },
  {
   "cell_type": "code",
   "execution_count": 30,
   "metadata": {},
   "outputs": [
    {
     "data": {
      "text/plain": [
       "age_group\n",
       "18-30       1024\n",
       "30-45        826\n",
       "45-60        218\n",
       "Over 60       20\n",
       "Under 18      37\n",
       "Name: worker_id, dtype: int64"
      ]
     },
     "execution_count": 30,
     "metadata": {},
     "output_type": "execute_result"
    }
   ],
   "source": [
    "aggression_worker_demographics.groupby('age_group').worker_id.count()"
   ]
  },
  {
   "cell_type": "markdown",
   "metadata": {},
   "source": [
    "Number of comments marked by each age group"
   ]
  },
  {
   "cell_type": "code",
   "execution_count": 31,
   "metadata": {},
   "outputs": [
    {
     "data": {
      "text/plain": [
       "age_group\n",
       "18-30       391192\n",
       "30-45       357584\n",
       "45-60        77313\n",
       "Over 60       7841\n",
       "Under 18      9577\n",
       "Name: rev_id, dtype: int64"
      ]
     },
     "execution_count": 31,
     "metadata": {},
     "output_type": "execute_result"
    }
   ],
   "source": [
    "df_aggression.groupby('age_group').rev_id.count()"
   ]
  },
  {
   "cell_type": "markdown",
   "metadata": {},
   "source": [
    "Percentage of workers in each age group"
   ]
  },
  {
   "cell_type": "code",
   "execution_count": 40,
   "metadata": {},
   "outputs": [
    {
     "data": {
      "image/png": "[encoded data removed]",
      "text/plain": [
       "<Figure size 720x576 with 1 Axes>"
      ]
     },
     "metadata": {
      "needs_background": "light"
     },
     "output_type": "display_data"
    }
   ],
   "source": [
    "aggression_age = aggression_worker_demographics.groupby('age_group').worker_id.count()\n",
    "\n",
    "fig, ax = plt.subplots(figsize=(10,8))\n",
    "(100*aggression_age/aggression_age.sum()).plot.barh()\n",
    "\n",
    "plt.title('Percentage of of workers by age group')\n",
    "\n",
    "ax.set_xlabel('Percentage of workers')\n",
    "\n",
    "plt.savefig('percent_workers_agegroup_aggression.png')\n",
    "\n",
    "plt.grid()\n",
    "plt.show()"
   ]
  },
  {
   "cell_type": "markdown",
   "metadata": {},
   "source": [
    "We can see that the sample of workers is not fairly distributed within age groups.\n",
    "\n",
    "For example, we know that, as of 2015, the percentage of the population of 65 and over was 14.9% ([United States Census Bureau](https://www.census.gov/newsroom/facts-for-features/2017/cb17-ff08.html)), so we can assume that the current population of more than 60 years old should be significantly larger, as we are taking into account a larger portion of the population (over 60 instead of 65). There is also evidence that the older population's size is growing year by year (it's supposed to double in size by 2060, according to the same article). It's also expected, due to the online nature of the work, that not many older people would be doing this job.\n",
    "\n",
    "The underrepresentation of the 'Under 18' group is also expected, as there is probably an age requirement to be a worker in Crowdflower and similar platforms.\n",
    "\n",
    "This means that if there is a difference in how workers in each age group assign an aggression score, the models using this dataset for training could be biased."
   ]
  },
  {
   "cell_type": "markdown",
   "metadata": {},
   "source": [
    "**Do workers in different age groups assign different aggression scores?**"
   ]
  },
  {
   "cell_type": "markdown",
   "metadata": {},
   "source": [
    "Plot the distribution of worker's mean aggression score by age group."
   ]
  },
  {
   "cell_type": "code",
   "execution_count": 41,
   "metadata": {},
   "outputs": [
    {
     "data": {
      "image/png": "[encoded data removed]",
      "text/plain": [
       "<Figure size 720x576 with 1 Axes>"
      ]
     },
     "metadata": {
      "needs_background": "light"
     },
     "output_type": "display_data"
    }
   ],
   "source": [
    "fig, ax = plt.subplots(figsize=(10,8))\n",
    "ax.set_title(\"Distribution of worker's mean aggression score by age group\")\n",
    "sns.violinplot( x='mean_aggression_score', y='age_group', data=aggression_worker_demographics, ax=ax, order=['Under 18', '18-30', '30-45', '45-60', 'Over 60'])\n",
    "\n",
    "plt.savefig('worker_aggression_score_agregroup.png')\n",
    "\n",
    "plt.grid()\n",
    "plt.show()"
   ]
  },
  {
   "cell_type": "markdown",
   "metadata": {},
   "source": [
    "Worker's mean aggression score by age group."
   ]
  },
  {
   "cell_type": "code",
   "execution_count": 33,
   "metadata": {},
   "outputs": [
    {
     "data": {
      "text/plain": [
       "age_group\n",
       "18-30      -0.175894\n",
       "30-45      -0.185027\n",
       "45-60      -0.268210\n",
       "Over 60    -0.249769\n",
       "Under 18   -0.085089\n",
       "Name: mean_aggression_score, dtype: float64"
      ]
     },
     "execution_count": 33,
     "metadata": {},
     "output_type": "execute_result"
    }
   ],
   "source": [
    "aggression_worker_demographics.groupby('age_group').mean_aggression_score.mean()"
   ]
  },
  {
   "cell_type": "markdown",
   "metadata": {},
   "source": [
    "While not extreme, the mean aggression score assigned by older workers (>45) is lower than the rest of the age groups. It seems like the younger the age group the higher the mean agression score gets."
   ]
  },
  {
   "cell_type": "markdown",
   "metadata": {},
   "source": [
    "**What percentage of the annotations made by age group were marked as 'aggressive'?**"
   ]
  },
  {
   "cell_type": "code",
   "execution_count": 37,
   "metadata": {},
   "outputs": [
    {
     "data": {
      "text/plain": [
       "age_group\n",
       "18-30       0.167593\n",
       "30-45       0.190369\n",
       "45-60       0.235937\n",
       "Over 60     0.236577\n",
       "Under 18    0.130730\n",
       "dtype: float64"
      ]
     },
     "execution_count": 37,
     "metadata": {},
     "output_type": "execute_result"
    }
   ],
   "source": [
    "df_aggression.groupby('age_group').aggression.sum()/df_aggression.groupby('age_group').rev_id.count()"
   ]
  },
  {
   "cell_type": "markdown",
   "metadata": {},
   "source": [
    "We can see that a higher percentage of the annotations made by older workers (>45) are marked as 'aggressive' when compared to younger workers."
   ]
  },
  {
   "cell_type": "markdown",
   "metadata": {},
   "source": [
    "### Conclusion for Analysis #2: Do workers in different age behave different when marking a comment as 'aggressive'?"
   ]
  },
  {
   "cell_type": "markdown",
   "metadata": {},
   "source": [
    "The inaccurate representation of age groups of workers in the Aggression dataset is a source of bias that anyone training their models on this dataset should be aware of.\n",
    "\n",
    "There are a couple of issues that combined contribute to the bias. First, the distribution of workers among all age groups is quite far from the entire population. There is clear over-representation of the population between 18 and 45 years old and a severe lack of workers in the 'Under 18' and 'Over 60' groups. While expected due to the nature of the work mentioned earlier in the analysis, this misrepresentation of the population can be problematic if age is a factor when marking comments as aggressive.\n",
    "\n",
    "Which brings us to the second finding: there is a difference in mean aggression score, and a higher percentage of comments annotated by older workers are marked as aggressive. Combined with the population's inaccurate representation, it means that models trained with this dataset will be skewed towards a more friendly score, as the training data lacks more records with older workers."
   ]
  },
  {
   "cell_type": "markdown",
   "metadata": {},
   "source": [
    "# Step 2: Further implications"
   ]
  },
  {
   "cell_type": "markdown",
   "metadata": {},
   "source": [
    "### Which, if any, of these demo applications would you expect the Perspective API—or any model trained on the Wikipedia Talk corpus—to perform well in? Why?  \n",
    "\n",
    "I believe that applications like \"Toxicity Timeline\" and \"Hot Topics\" would probably perform well from the demo application.  \n",
    "\n",
    "* \"Toxicity Timeline\" is an application that aims to find hidden patterns behind toxic behavior, like when is the most toxic time of day or if toxic comments are more likely once a toxic comment appeared in a post. I think that the gender bias found in the toxicity dataset should not impact this application, as the goal is to find patterns and not so much the most precise identification of toxic comments. Even if plenty of comments' toxicity is missed, the functionality could still make sense with the data available.   \n",
    "\n",
    "\n",
    "* \"Hot Topics\" is an application that assigns a predicted toxicity score to an article based on the average toxicity of specific categories. While I think that the model could miss certain toxic behavior due to the gender bias in the dataset, I thought the application was worth mentioning because it makes a point of predicting the toxicity based on the same category of past articles. As we learned from [Mixed Messages? The Limits of Automated Social Media Content Analysis (Duarte, N., Llanso, E., & Loup, A. (2018))](https://cdt.org/files/2017/12/FAT-conference-draft-2018.pdf), NLP tools tend to perform best when trained in a similar domain. \n"
   ]
  },
  {
   "cell_type": "markdown",
   "metadata": {},
   "source": [
    "### Which, if any, of these demo applications would you expect the Perspective API to perform poorly in? Why?\n",
    "\n",
    "I think that applications like \"Comment Blur Filter\" or \"Behave!\", where the user inputs the desired threshold for toxicity, could perform poorly due to the found bias in the training data based on workers' gender. The level of toxicity assigned was different depending on the gender, so the overrepresentation of male workers will skew the toxicity score. This will result in differences when setting up a threshold. Females are more likely to find a comment to be toxic and could be offended by the comments left after applying a threshold, based mostly on annotations made by male workers.\n"
   ]
  },
  {
   "cell_type": "markdown",
   "metadata": {},
   "source": [
    "### What are some potential unintended, negative consequences of using the Perspective API for any of these purposes? In your opinion, are these consequences likely or serious enough that you would recommend that the Perspective API not be used in these applications? Why or why not?\n",
    "\n",
    "The application called \"Authorship Feedback\" gives users real-time feedback about whether their comment might be considered toxic or in violation of community guidelines. It aims to reduce abuse and harassment from conversations. This application is working under the assumption that the comment author didn't know their comment was toxic and would likely change it when warned by the tool.  \n",
    "\n",
    "I don't think this assumption is correct most of the time. Users who intend to post a toxic message will still do it no matter the feedback. Besides, knowing that their message could be marked as toxic (and possibly deleted), showing them the \"toxicity score\" gives them the necessary tool to learn how to trick the model. The author could learn how to reword their message to obtain a better score. For example, on a much different scale, you wouldn't explain to a user exactly why you mark a credit card transaction as fraudulent, as you could be telling the fraudster how to change their methods to trick the fraud prevention model.\n",
    "\n",
    "That being said, I don't think the consequences are severe enough to recommend not to use the API. I would probably recommend that they don't show the score until they try to submit the comment so that the application could actually store the score of the intended messages and potentially identify toxic users."
   ]
  }
 ],
 "metadata": {
  "kernelspec": {
   "display_name": "Python 3",
   "language": "python",
   "name": "python3"
  },
  "language_info": {
   "codemirror_mode": {
    "name": "ipython",
    "version": 3
   },
   "file_extension": ".py",
   "mimetype": "text/x-python",
   "name": "python",
   "nbconvert_exporter": "python",
   "pygments_lexer": "ipython3",
   "version": "3.7.4"
  }
 },
 "nbformat": 4,
 "nbformat_minor": 2
}
